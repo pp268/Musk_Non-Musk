{
 "cells": [
  {
   "cell_type": "markdown",
   "metadata": {},
   "source": [
    "### Importing Basic Packages"
   ]
  },
  {
   "cell_type": "code",
   "execution_count": 1,
   "metadata": {},
   "outputs": [
    {
     "name": "stderr",
     "output_type": "stream",
     "text": [
      "Using TensorFlow backend.\n"
     ]
    }
   ],
   "source": [
    "import pandas as pd\n",
    "import numpy as np\n",
    "import matplotlib.pyplot as plt\n",
    "%matplotlib inline\n",
    "import keras\n",
    "from keras.models import Sequential\n",
    "from keras.layers import Dense\n",
    "from sklearn.metrics import classification_report, confusion_matrix, accuracy_score\n",
    "from keras.optimizers import Adam"
   ]
  },
  {
   "cell_type": "markdown",
   "metadata": {},
   "source": [
    "### Importing the Datasets"
   ]
  },
  {
   "cell_type": "code",
   "execution_count": 2,
   "metadata": {},
   "outputs": [],
   "source": [
    "data=pd.read_csv(\"../input/musk-nonmusk/musk_csv.csv\")"
   ]
  },
  {
   "cell_type": "code",
   "execution_count": 3,
   "metadata": {},
   "outputs": [
    {
     "data": {
      "text/html": [
       "<div>\n",
       "<style scoped>\n",
       "    .dataframe tbody tr th:only-of-type {\n",
       "        vertical-align: middle;\n",
       "    }\n",
       "\n",
       "    .dataframe tbody tr th {\n",
       "        vertical-align: top;\n",
       "    }\n",
       "\n",
       "    .dataframe thead th {\n",
       "        text-align: right;\n",
       "    }\n",
       "</style>\n",
       "<table border=\"1\" class=\"dataframe\">\n",
       "  <thead>\n",
       "    <tr style=\"text-align: right;\">\n",
       "      <th></th>\n",
       "      <th>ID</th>\n",
       "      <th>molecule_name</th>\n",
       "      <th>conformation_name</th>\n",
       "      <th>f1</th>\n",
       "      <th>f2</th>\n",
       "      <th>f3</th>\n",
       "      <th>f4</th>\n",
       "      <th>f5</th>\n",
       "      <th>f6</th>\n",
       "      <th>f7</th>\n",
       "      <th>...</th>\n",
       "      <th>f158</th>\n",
       "      <th>f159</th>\n",
       "      <th>f160</th>\n",
       "      <th>f161</th>\n",
       "      <th>f162</th>\n",
       "      <th>f163</th>\n",
       "      <th>f164</th>\n",
       "      <th>f165</th>\n",
       "      <th>f166</th>\n",
       "      <th>class</th>\n",
       "    </tr>\n",
       "  </thead>\n",
       "  <tbody>\n",
       "    <tr>\n",
       "      <th>0</th>\n",
       "      <td>1</td>\n",
       "      <td>MUSK-211</td>\n",
       "      <td>211_1+1</td>\n",
       "      <td>46</td>\n",
       "      <td>-108</td>\n",
       "      <td>-60</td>\n",
       "      <td>-69</td>\n",
       "      <td>-117</td>\n",
       "      <td>49</td>\n",
       "      <td>38</td>\n",
       "      <td>...</td>\n",
       "      <td>-308</td>\n",
       "      <td>52</td>\n",
       "      <td>-7</td>\n",
       "      <td>39</td>\n",
       "      <td>126</td>\n",
       "      <td>156</td>\n",
       "      <td>-50</td>\n",
       "      <td>-112</td>\n",
       "      <td>96</td>\n",
       "      <td>1</td>\n",
       "    </tr>\n",
       "    <tr>\n",
       "      <th>1</th>\n",
       "      <td>2</td>\n",
       "      <td>MUSK-211</td>\n",
       "      <td>211_1+10</td>\n",
       "      <td>41</td>\n",
       "      <td>-188</td>\n",
       "      <td>-145</td>\n",
       "      <td>22</td>\n",
       "      <td>-117</td>\n",
       "      <td>-6</td>\n",
       "      <td>57</td>\n",
       "      <td>...</td>\n",
       "      <td>-59</td>\n",
       "      <td>-2</td>\n",
       "      <td>52</td>\n",
       "      <td>103</td>\n",
       "      <td>136</td>\n",
       "      <td>169</td>\n",
       "      <td>-61</td>\n",
       "      <td>-136</td>\n",
       "      <td>79</td>\n",
       "      <td>1</td>\n",
       "    </tr>\n",
       "    <tr>\n",
       "      <th>2</th>\n",
       "      <td>3</td>\n",
       "      <td>MUSK-211</td>\n",
       "      <td>211_1+11</td>\n",
       "      <td>46</td>\n",
       "      <td>-194</td>\n",
       "      <td>-145</td>\n",
       "      <td>28</td>\n",
       "      <td>-117</td>\n",
       "      <td>73</td>\n",
       "      <td>57</td>\n",
       "      <td>...</td>\n",
       "      <td>-134</td>\n",
       "      <td>-154</td>\n",
       "      <td>57</td>\n",
       "      <td>143</td>\n",
       "      <td>142</td>\n",
       "      <td>165</td>\n",
       "      <td>-67</td>\n",
       "      <td>-145</td>\n",
       "      <td>39</td>\n",
       "      <td>1</td>\n",
       "    </tr>\n",
       "    <tr>\n",
       "      <th>3</th>\n",
       "      <td>4</td>\n",
       "      <td>MUSK-211</td>\n",
       "      <td>211_1+12</td>\n",
       "      <td>41</td>\n",
       "      <td>-188</td>\n",
       "      <td>-145</td>\n",
       "      <td>22</td>\n",
       "      <td>-117</td>\n",
       "      <td>-7</td>\n",
       "      <td>57</td>\n",
       "      <td>...</td>\n",
       "      <td>-60</td>\n",
       "      <td>-4</td>\n",
       "      <td>52</td>\n",
       "      <td>104</td>\n",
       "      <td>136</td>\n",
       "      <td>168</td>\n",
       "      <td>-60</td>\n",
       "      <td>-135</td>\n",
       "      <td>80</td>\n",
       "      <td>1</td>\n",
       "    </tr>\n",
       "    <tr>\n",
       "      <th>4</th>\n",
       "      <td>5</td>\n",
       "      <td>MUSK-211</td>\n",
       "      <td>211_1+13</td>\n",
       "      <td>41</td>\n",
       "      <td>-188</td>\n",
       "      <td>-145</td>\n",
       "      <td>22</td>\n",
       "      <td>-117</td>\n",
       "      <td>-7</td>\n",
       "      <td>57</td>\n",
       "      <td>...</td>\n",
       "      <td>-60</td>\n",
       "      <td>-4</td>\n",
       "      <td>52</td>\n",
       "      <td>104</td>\n",
       "      <td>137</td>\n",
       "      <td>168</td>\n",
       "      <td>-60</td>\n",
       "      <td>-135</td>\n",
       "      <td>80</td>\n",
       "      <td>1</td>\n",
       "    </tr>\n",
       "  </tbody>\n",
       "</table>\n",
       "<p>5 rows × 170 columns</p>\n",
       "</div>"
      ],
      "text/plain": [
       "   ID molecule_name conformation_name  f1   f2   f3  f4   f5  f6  f7  ...  \\\n",
       "0   1      MUSK-211           211_1+1  46 -108  -60 -69 -117  49  38  ...   \n",
       "1   2      MUSK-211          211_1+10  41 -188 -145  22 -117  -6  57  ...   \n",
       "2   3      MUSK-211          211_1+11  46 -194 -145  28 -117  73  57  ...   \n",
       "3   4      MUSK-211          211_1+12  41 -188 -145  22 -117  -7  57  ...   \n",
       "4   5      MUSK-211          211_1+13  41 -188 -145  22 -117  -7  57  ...   \n",
       "\n",
       "   f158  f159  f160  f161  f162  f163  f164  f165  f166  class  \n",
       "0  -308    52    -7    39   126   156   -50  -112    96      1  \n",
       "1   -59    -2    52   103   136   169   -61  -136    79      1  \n",
       "2  -134  -154    57   143   142   165   -67  -145    39      1  \n",
       "3   -60    -4    52   104   136   168   -60  -135    80      1  \n",
       "4   -60    -4    52   104   137   168   -60  -135    80      1  \n",
       "\n",
       "[5 rows x 170 columns]"
      ]
     },
     "execution_count": 3,
     "metadata": {},
     "output_type": "execute_result"
    }
   ],
   "source": [
    "data.head()"
   ]
  },
  {
   "cell_type": "code",
   "execution_count": 4,
   "metadata": {},
   "outputs": [
    {
     "data": {
      "text/plain": [
       "(6598, 170)"
      ]
     },
     "execution_count": 4,
     "metadata": {},
     "output_type": "execute_result"
    }
   ],
   "source": [
    "data.shape"
   ]
  },
  {
   "cell_type": "markdown",
   "metadata": {},
   "source": [
    "### Data Pre-processing"
   ]
  },
  {
   "cell_type": "code",
   "execution_count": 5,
   "metadata": {},
   "outputs": [
    {
     "data": {
      "text/plain": [
       "102"
      ]
     },
     "execution_count": 5,
     "metadata": {},
     "output_type": "execute_result"
    }
   ],
   "source": [
    "len(data[\"molecule_name\"].unique())"
   ]
  },
  {
   "cell_type": "code",
   "execution_count": 6,
   "metadata": {},
   "outputs": [
    {
     "data": {
      "text/plain": [
       "6598"
      ]
     },
     "execution_count": 6,
     "metadata": {},
     "output_type": "execute_result"
    }
   ],
   "source": [
    "len(data[\"conformation_name\"].unique())"
   ]
  },
  {
   "cell_type": "markdown",
   "metadata": {},
   "source": [
    "#### Dropping the Columns"
   ]
  },
  {
   "cell_type": "code",
   "execution_count": 7,
   "metadata": {},
   "outputs": [],
   "source": [
    "data.drop([\"conformation_name\",\"ID\"],inplace=True,axis=1)"
   ]
  },
  {
   "cell_type": "code",
   "execution_count": 8,
   "metadata": {},
   "outputs": [],
   "source": [
    "X=data.iloc[:,:-1].values\n",
    "y=data.iloc[:,-1]"
   ]
  },
  {
   "cell_type": "code",
   "execution_count": 9,
   "metadata": {},
   "outputs": [
    {
     "data": {
      "text/plain": [
       "array([['MUSK-211', 46, -108, ..., -50, -112, 96],\n",
       "       ['MUSK-211', 41, -188, ..., -61, -136, 79],\n",
       "       ['MUSK-211', 46, -194, ..., -67, -145, 39],\n",
       "       ...,\n",
       "       ['NON-MUSK-jp13', 44, -102, ..., -66, -144, -6],\n",
       "       ['NON-MUSK-jp13', 51, -121, ..., -44, -116, 117],\n",
       "       ['NON-MUSK-jp13', 51, -122, ..., -44, -115, 118]], dtype=object)"
      ]
     },
     "execution_count": 9,
     "metadata": {},
     "output_type": "execute_result"
    }
   ],
   "source": [
    "X"
   ]
  },
  {
   "cell_type": "code",
   "execution_count": 10,
   "metadata": {},
   "outputs": [
    {
     "data": {
      "text/plain": [
       "0       1\n",
       "1       1\n",
       "2       1\n",
       "3       1\n",
       "4       1\n",
       "       ..\n",
       "6593    0\n",
       "6594    0\n",
       "6595    0\n",
       "6596    0\n",
       "6597    0\n",
       "Name: class, Length: 6598, dtype: int64"
      ]
     },
     "execution_count": 10,
     "metadata": {},
     "output_type": "execute_result"
    }
   ],
   "source": [
    "y"
   ]
  },
  {
   "cell_type": "markdown",
   "metadata": {},
   "source": [
    "#### Label Encoding"
   ]
  },
  {
   "cell_type": "code",
   "execution_count": 11,
   "metadata": {},
   "outputs": [],
   "source": [
    "from sklearn.preprocessing import LabelEncoder"
   ]
  },
  {
   "cell_type": "code",
   "execution_count": 12,
   "metadata": {},
   "outputs": [],
   "source": [
    "labelencoder=LabelEncoder()"
   ]
  },
  {
   "cell_type": "code",
   "execution_count": 13,
   "metadata": {},
   "outputs": [],
   "source": [
    "X[:,0]=labelencoder.fit_transform(X[:, 0])"
   ]
  },
  {
   "cell_type": "code",
   "execution_count": 14,
   "metadata": {},
   "outputs": [
    {
     "data": {
      "text/plain": [
       "array([[0, 46, -108, ..., -50, -112, 96],\n",
       "       [0, 41, -188, ..., -61, -136, 79],\n",
       "       [0, 46, -194, ..., -67, -145, 39],\n",
       "       ...,\n",
       "       [101, 44, -102, ..., -66, -144, -6],\n",
       "       [101, 51, -121, ..., -44, -116, 117],\n",
       "       [101, 51, -122, ..., -44, -115, 118]], dtype=object)"
      ]
     },
     "execution_count": 14,
     "metadata": {},
     "output_type": "execute_result"
    }
   ],
   "source": [
    "X"
   ]
  },
  {
   "cell_type": "markdown",
   "metadata": {},
   "source": [
    "#### Scaling the Data "
   ]
  },
  {
   "cell_type": "code",
   "execution_count": 15,
   "metadata": {},
   "outputs": [],
   "source": [
    "from sklearn.preprocessing import StandardScaler\n",
    "sc_X = StandardScaler()\n",
    "X = sc_X.fit_transform(X)"
   ]
  },
  {
   "cell_type": "code",
   "execution_count": 16,
   "metadata": {},
   "outputs": [
    {
     "data": {
      "text/plain": [
       "array([[-2.22097135, -0.24312408,  0.12255207, ..., -0.04561267,\n",
       "         0.50333227,  0.5762445 ],\n",
       "       [-2.22097135, -0.33702966, -0.7584422 , ..., -0.24537589,\n",
       "         0.18759789,  0.39560282],\n",
       "       [-2.22097135, -0.24312408, -0.82451677, ..., -0.35433764,\n",
       "         0.06919749, -0.02943645],\n",
       "       ...,\n",
       "       [ 1.49457534, -0.28068632,  0.18862664, ..., -0.33617735,\n",
       "         0.08235309, -0.50760562],\n",
       "       [ 1.49457534, -0.1492185 , -0.0206095 , ...,  0.06334909,\n",
       "         0.45070987,  0.79939012],\n",
       "       [ 1.49457534, -0.1492185 , -0.03162193, ...,  0.06334909,\n",
       "         0.46386547,  0.8100161 ]])"
      ]
     },
     "execution_count": 16,
     "metadata": {},
     "output_type": "execute_result"
    }
   ],
   "source": [
    "X"
   ]
  },
  {
   "cell_type": "markdown",
   "metadata": {},
   "source": [
    "### Splitting the data into Training and Test Sets"
   ]
  },
  {
   "cell_type": "code",
   "execution_count": 17,
   "metadata": {},
   "outputs": [],
   "source": [
    "from sklearn.model_selection import train_test_split"
   ]
  },
  {
   "cell_type": "code",
   "execution_count": 18,
   "metadata": {},
   "outputs": [],
   "source": [
    "X_train,X_test,y_train,y_test=train_test_split(X, y, test_size = 0.20, random_state = 0)"
   ]
  },
  {
   "cell_type": "markdown",
   "metadata": {},
   "source": [
    "### Building Artificial Neural Network"
   ]
  },
  {
   "cell_type": "code",
   "execution_count": 19,
   "metadata": {},
   "outputs": [],
   "source": [
    "# Initializing\n",
    "classifier=Sequential()"
   ]
  },
  {
   "cell_type": "code",
   "execution_count": 20,
   "metadata": {},
   "outputs": [],
   "source": [
    "#Addding layers to the Neural Network\n",
    "classifier.add(Dense(units = 84, kernel_initializer = 'uniform', activation = 'relu', input_dim = 167))\n",
    "classifier.add(Dense(units = 84, kernel_initializer = 'uniform', activation = 'relu'))\n",
    "classifier.add(Dense(units = 1, kernel_initializer = 'uniform', activation = 'sigmoid'))"
   ]
  },
  {
   "cell_type": "code",
   "execution_count": 21,
   "metadata": {},
   "outputs": [],
   "source": [
    "#Setting the Optimizer\n",
    "opt=Adam(learning_rate=0.0001, beta_1=0.9, beta_2=0.999, amsgrad=False)"
   ]
  },
  {
   "cell_type": "code",
   "execution_count": 22,
   "metadata": {},
   "outputs": [],
   "source": [
    "# Compile Model\n",
    "classifier.compile(optimizer = opt, loss = 'binary_crossentropy', metrics = ['accuracy'])"
   ]
  },
  {
   "cell_type": "code",
   "execution_count": 23,
   "metadata": {},
   "outputs": [
    {
     "name": "stdout",
     "output_type": "stream",
     "text": [
      "Train on 5278 samples, validate on 1320 samples\n",
      "Epoch 1/30\n",
      "5278/5278 [==============================] - 1s 177us/step - loss: 0.4452 - accuracy: 0.8439 - val_loss: 0.2938 - val_accuracy: 0.8515\n",
      "Epoch 2/30\n",
      "5278/5278 [==============================] - 1s 112us/step - loss: 0.2341 - accuracy: 0.9007 - val_loss: 0.1744 - val_accuracy: 0.9295\n",
      "Epoch 3/30\n",
      "5278/5278 [==============================] - 1s 112us/step - loss: 0.1388 - accuracy: 0.9473 - val_loss: 0.1063 - val_accuracy: 0.9530\n",
      "Epoch 4/30\n",
      "5278/5278 [==============================] - 1s 112us/step - loss: 0.0899 - accuracy: 0.9644 - val_loss: 0.0692 - val_accuracy: 0.9742\n",
      "Epoch 5/30\n",
      "5278/5278 [==============================] - 1s 110us/step - loss: 0.0595 - accuracy: 0.9833 - val_loss: 0.0443 - val_accuracy: 0.9917\n",
      "Epoch 6/30\n",
      "5278/5278 [==============================] - 1s 111us/step - loss: 0.0383 - accuracy: 0.9930 - val_loss: 0.0298 - val_accuracy: 0.9924\n",
      "Epoch 7/30\n",
      "5278/5278 [==============================] - 1s 113us/step - loss: 0.0243 - accuracy: 0.9962 - val_loss: 0.0200 - val_accuracy: 0.9955\n",
      "Epoch 8/30\n",
      "5278/5278 [==============================] - 1s 110us/step - loss: 0.0159 - accuracy: 0.9985 - val_loss: 0.0142 - val_accuracy: 0.9985\n",
      "Epoch 9/30\n",
      "5278/5278 [==============================] - 1s 109us/step - loss: 0.0105 - accuracy: 0.9994 - val_loss: 0.0104 - val_accuracy: 0.9985\n",
      "Epoch 10/30\n",
      "5278/5278 [==============================] - 1s 111us/step - loss: 0.0070 - accuracy: 0.9996 - val_loss: 0.0077 - val_accuracy: 0.9985\n",
      "Epoch 11/30\n",
      "5278/5278 [==============================] - 1s 109us/step - loss: 0.0046 - accuracy: 0.9998 - val_loss: 0.0064 - val_accuracy: 0.9992\n",
      "Epoch 12/30\n",
      "5278/5278 [==============================] - 1s 111us/step - loss: 0.0032 - accuracy: 1.0000 - val_loss: 0.0050 - val_accuracy: 0.9992\n",
      "Epoch 13/30\n",
      "5278/5278 [==============================] - 1s 111us/step - loss: 0.0023 - accuracy: 1.0000 - val_loss: 0.0041 - val_accuracy: 0.9992\n",
      "Epoch 14/30\n",
      "5278/5278 [==============================] - 1s 110us/step - loss: 0.0017 - accuracy: 1.0000 - val_loss: 0.0035 - val_accuracy: 0.9992\n",
      "Epoch 15/30\n",
      "5278/5278 [==============================] - 1s 117us/step - loss: 0.0012 - accuracy: 1.0000 - val_loss: 0.0030 - val_accuracy: 0.9992\n",
      "Epoch 16/30\n",
      "5278/5278 [==============================] - 1s 126us/step - loss: 9.4928e-04 - accuracy: 1.0000 - val_loss: 0.0026 - val_accuracy: 0.9992\n",
      "Epoch 17/30\n",
      "5278/5278 [==============================] - 1s 121us/step - loss: 7.3505e-04 - accuracy: 1.0000 - val_loss: 0.0023 - val_accuracy: 0.9992\n",
      "Epoch 18/30\n",
      "5278/5278 [==============================] - 1s 114us/step - loss: 5.6055e-04 - accuracy: 1.0000 - val_loss: 0.0021 - val_accuracy: 0.9992\n",
      "Epoch 19/30\n",
      "5278/5278 [==============================] - 1s 112us/step - loss: 4.4291e-04 - accuracy: 1.0000 - val_loss: 0.0018 - val_accuracy: 0.9992\n",
      "Epoch 20/30\n",
      "5278/5278 [==============================] - 1s 110us/step - loss: 3.4155e-04 - accuracy: 1.0000 - val_loss: 0.0017 - val_accuracy: 0.9992\n",
      "Epoch 21/30\n",
      "5278/5278 [==============================] - 1s 114us/step - loss: 2.7330e-04 - accuracy: 1.0000 - val_loss: 0.0015 - val_accuracy: 0.9992\n",
      "Epoch 22/30\n",
      "5278/5278 [==============================] - 1s 109us/step - loss: 2.1318e-04 - accuracy: 1.0000 - val_loss: 0.0014 - val_accuracy: 0.9992\n",
      "Epoch 23/30\n",
      "5278/5278 [==============================] - 1s 122us/step - loss: 1.7235e-04 - accuracy: 1.0000 - val_loss: 0.0012 - val_accuracy: 0.9992\n",
      "Epoch 24/30\n",
      "5278/5278 [==============================] - 1s 117us/step - loss: 1.3749e-04 - accuracy: 1.0000 - val_loss: 0.0011 - val_accuracy: 0.9992\n",
      "Epoch 25/30\n",
      "5278/5278 [==============================] - 1s 114us/step - loss: 1.1135e-04 - accuracy: 1.0000 - val_loss: 0.0010 - val_accuracy: 0.9992\n",
      "Epoch 26/30\n",
      "5278/5278 [==============================] - 1s 113us/step - loss: 8.9666e-05 - accuracy: 1.0000 - val_loss: 8.7618e-04 - val_accuracy: 0.9992\n",
      "Epoch 27/30\n",
      "5278/5278 [==============================] - 1s 110us/step - loss: 7.2065e-05 - accuracy: 1.0000 - val_loss: 8.1030e-04 - val_accuracy: 0.9992\n",
      "Epoch 28/30\n",
      "5278/5278 [==============================] - 1s 112us/step - loss: 5.8466e-05 - accuracy: 1.0000 - val_loss: 7.3094e-04 - val_accuracy: 1.0000\n",
      "Epoch 29/30\n",
      "5278/5278 [==============================] - 1s 112us/step - loss: 4.7873e-05 - accuracy: 1.0000 - val_loss: 6.9809e-04 - val_accuracy: 1.0000\n",
      "Epoch 30/30\n",
      "5278/5278 [==============================] - 1s 112us/step - loss: 3.8764e-05 - accuracy: 1.0000 - val_loss: 6.0184e-04 - val_accuracy: 1.0000\n"
     ]
    }
   ],
   "source": [
    "# Fitting the Model\n",
    "history = classifier.fit(X_train,\n",
    "                         y_train,\n",
    "                         validation_data = (X_test,y_test),\n",
    "                         epochs=30,\n",
    "                         batch_size=16)\n"
   ]
  },
  {
   "cell_type": "markdown",
   "metadata": {},
   "source": [
    "#### Training and Validation accuracy and Loss graph"
   ]
  },
  {
   "cell_type": "code",
   "execution_count": 24,
   "metadata": {},
   "outputs": [],
   "source": [
    "acc = history.history['accuracy']\n",
    "val_acc = history.history['val_accuracy']\n",
    "loss = history.history['loss']\n",
    "val_loss = history.history['val_loss']\n",
    "epochs=range(len(acc))"
   ]
  },
  {
   "cell_type": "code",
   "execution_count": 25,
   "metadata": {},
   "outputs": [
    {
     "data": {
      "text/plain": [
       "Text(0.5, 1.0, 'Training and Validation Accuracy')"
      ]
     },
     "execution_count": 25,
     "metadata": {},
     "output_type": "execute_result"
    },
    {
     "data": {
      "image/png": "[encoded data removed]",
      "text/plain": [
       "<Figure size 432x288 with 1 Axes>"
      ]
     },
     "metadata": {
      "needs_background": "light"
     },
     "output_type": "display_data"
    }
   ],
   "source": [
    "plt.plot(epochs,acc,label='Trainin_acc',color='blue')\n",
    "plt.plot(epochs,val_acc,label='Validation_acc',color='red')\n",
    "plt.legend()\n",
    "plt.title(\"Training and Validation Accuracy\")"
   ]
  },
  {
   "cell_type": "code",
   "execution_count": 26,
   "metadata": {
    "_cell_guid": "",
    "_uuid": ""
   },
   "outputs": [
    {
     "data": {
      "text/plain": [
       "Text(0.5, 1.0, 'Training and Validation loss')"
      ]
     },
     "execution_count": 26,
     "metadata": {},
     "output_type": "execute_result"
    },
    {
     "data": {
      "image/png": "[encoded data removed]",
      "text/plain": [
       "<Figure size 432x288 with 1 Axes>"
      ]
     },
     "metadata": {
      "needs_background": "light"
     },
     "output_type": "display_data"
    }
   ],
   "source": [
    "plt.plot(epochs,loss,label='Training_loss',color='blue')\n",
    "plt.plot(epochs,val_loss,label='Validation_loss',color='red')\n",
    "plt.legend()\n",
    "plt.title(\"Training and Validation loss\")"
   ]
  },
  {
   "cell_type": "markdown",
   "metadata": {},
   "source": [
    "### making prediction on test set "
   ]
  },
  {
   "cell_type": "code",
   "execution_count": 27,
   "metadata": {},
   "outputs": [],
   "source": [
    "y_pred=classifier.predict(X_test)"
   ]
  },
  {
   "cell_type": "code",
   "execution_count": 28,
   "metadata": {},
   "outputs": [],
   "source": [
    "y_pred=np.where(y_pred>0.5,1,0)"
   ]
  },
  {
   "cell_type": "code",
   "execution_count": 29,
   "metadata": {},
   "outputs": [
    {
     "data": {
      "text/plain": [
       "array([[0],\n",
       "       [1],\n",
       "       [0],\n",
       "       ...,\n",
       "       [0],\n",
       "       [0],\n",
       "       [0]])"
      ]
     },
     "execution_count": 29,
     "metadata": {},
     "output_type": "execute_result"
    }
   ],
   "source": [
    "y_pred"
   ]
  },
  {
   "cell_type": "markdown",
   "metadata": {},
   "source": [
    "### Model Evaluation Using Confusion Matrix, accuracy_score and classification report"
   ]
  },
  {
   "cell_type": "code",
   "execution_count": 30,
   "metadata": {},
   "outputs": [],
   "source": [
    "cm = confusion_matrix(y_test, y_pred)"
   ]
  },
  {
   "cell_type": "code",
   "execution_count": 31,
   "metadata": {},
   "outputs": [
    {
     "name": "stdout",
     "output_type": "stream",
     "text": [
      "[[1120    0]\n",
      " [   0  200]]\n"
     ]
    }
   ],
   "source": [
    "print(cm)"
   ]
  },
  {
   "cell_type": "code",
   "execution_count": 32,
   "metadata": {},
   "outputs": [
    {
     "data": {
      "text/plain": [
       "1.0"
      ]
     },
     "execution_count": 32,
     "metadata": {},
     "output_type": "execute_result"
    }
   ],
   "source": [
    "accuracy_score(y_test,y_pred)"
   ]
  },
  {
   "cell_type": "code",
   "execution_count": 33,
   "metadata": {},
   "outputs": [
    {
     "name": "stdout",
     "output_type": "stream",
     "text": [
      "              precision    recall  f1-score   support\n",
      "\n",
      "           0       1.00      1.00      1.00      1120\n",
      "           1       1.00      1.00      1.00       200\n",
      "\n",
      "    accuracy                           1.00      1320\n",
      "   macro avg       1.00      1.00      1.00      1320\n",
      "weighted avg       1.00      1.00      1.00      1320\n",
      "\n"
     ]
    }
   ],
   "source": [
    "print(classification_report(y_test,y_pred))"
   ]
  },
  {
   "cell_type": "markdown",
   "metadata": {},
   "source": [
    "### Saving the trained Model"
   ]
  },
  {
   "cell_type": "code",
   "execution_count": 34,
   "metadata": {},
   "outputs": [],
   "source": [
    "classifier.save(\"musk_model.h5\")"
   ]
  },
  {
   "cell_type": "code",
   "execution_count": null,
   "metadata": {},
   "outputs": [],
   "source": []
  }
 ],
 "metadata": {
  "kernelspec": {
   "display_name": "Python 3",
   "language": "python",
   "name": "python3"
  },
  "language_info": {
   "codemirror_mode": {
    "name": "ipython",
    "version": 3
   },
   "file_extension": ".py",
   "mimetype": "text/x-python",
   "name": "python",
   "nbconvert_exporter": "python",
   "pygments_lexer": "ipython3",
   "version": "3.6.5"
  }
 },
 "nbformat": 4,
 "nbformat_minor": 1
}
